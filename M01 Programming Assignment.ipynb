{
 "cells": [
  {
   "cell_type": "code",
   "execution_count": 1,
   "id": "0a911af9",
   "metadata": {},
   "outputs": [],
   "source": [
    "# Coleman Petras\n",
    "# SDEV 220\n",
    "# M01 Programming Assignment - Numbers and Types\n",
    "# Complete sections 3.1 through 3.6 utilizing Jupyter Notebook"
   ]
  },
  {
   "cell_type": "code",
   "execution_count": 2,
   "id": "720ff17b",
   "metadata": {},
   "outputs": [
    {
     "data": {
      "text/plain": [
       "3600"
      ]
     },
     "execution_count": 2,
     "metadata": {},
     "output_type": "execute_result"
    }
   ],
   "source": [
    "# 3.1 How many seconds are in a hour?\n",
    "\n",
    "# Use the interactive interpreter as a calculator and multiply\n",
    "# the number of seconds in a minute (60) and the number of minutes\n",
    "# 60 in an hour (also 60)\n",
    "\n",
    "60 * 60"
   ]
  },
  {
   "cell_type": "code",
   "execution_count": 3,
   "id": "2f46e426",
   "metadata": {},
   "outputs": [],
   "source": [
    "# 3.2 assign the result from the previous task (seconds in an hour)\n",
    "# to a variable called seconds_per_hour\n",
    "\n",
    "seconds_per_hour = 3600"
   ]
  },
  {
   "cell_type": "code",
   "execution_count": 4,
   "id": "f339947f",
   "metadata": {},
   "outputs": [
    {
     "data": {
      "text/plain": [
       "86400"
      ]
     },
     "execution_count": 4,
     "metadata": {},
     "output_type": "execute_result"
    }
   ],
   "source": [
    "# 3.3 How many seconds are in a day? \n",
    "\n",
    "# Use your seconds_per_hour variable\n",
    "seconds_per_hour * 24"
   ]
  },
  {
   "cell_type": "code",
   "execution_count": 5,
   "id": "2cf2fb7a",
   "metadata": {},
   "outputs": [],
   "source": [
    "# 3.4 Calculate seconds per day again\n",
    "# But this time, save the result in a variable called seconds_per_day\n",
    "\n",
    "seconds_per_day = seconds_per_hour * 24"
   ]
  },
  {
   "cell_type": "code",
   "execution_count": 6,
   "id": "9fac406c",
   "metadata": {},
   "outputs": [
    {
     "data": {
      "text/plain": [
       "24.0"
      ]
     },
     "execution_count": 6,
     "metadata": {},
     "output_type": "execute_result"
    }
   ],
   "source": [
    "# 3.5 Divide seconds_per_day by secoconds_per_hour\n",
    "# Use floating point division\n",
    "\n",
    "seconds_per_day / seconds_per_hour"
   ]
  },
  {
   "cell_type": "code",
   "execution_count": 7,
   "id": "c4227ef2",
   "metadata": {},
   "outputs": [
    {
     "data": {
      "text/plain": [
       "24"
      ]
     },
     "execution_count": 7,
     "metadata": {},
     "output_type": "execute_result"
    }
   ],
   "source": [
    "# 3.6 Divide seconds_per_day by seconds_per_hour\n",
    "# Use integer (//) division\n",
    "\n",
    "seconds_per_day // seconds_per_hour"
   ]
  },
  {
   "cell_type": "markdown",
   "id": "4f55b35c",
   "metadata": {},
   "source": [
    "Did this number agree with the floating-point value from the previous question, aside from the final .0?\n",
    "\n",
    "Yes, the answers were the same minus the floating point value at the end of the first answer. "
   ]
  }
 ],
 "metadata": {
  "kernelspec": {
   "display_name": "Python 3 (ipykernel)",
   "language": "python",
   "name": "python3"
  },
  "language_info": {
   "codemirror_mode": {
    "name": "ipython",
    "version": 3
   },
   "file_extension": ".py",
   "mimetype": "text/x-python",
   "name": "python",
   "nbconvert_exporter": "python",
   "pygments_lexer": "ipython3",
   "version": "3.11.7"
  }
 },
 "nbformat": 4,
 "nbformat_minor": 5
}
